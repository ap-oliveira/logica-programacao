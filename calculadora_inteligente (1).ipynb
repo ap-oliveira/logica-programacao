{
  "nbformat": 4,
  "nbformat_minor": 0,
  "metadata": {
    "colab": {
      "provenance": []
    },
    "kernelspec": {
      "name": "python3",
      "display_name": "Python 3"
    },
    "language_info": {
      "name": "python"
    }
  },
  "cells": [
    {
      "cell_type": "markdown",
      "source": [
        "\"\"\"\n",
        "#Calculadora Inteligente\n",
        "\n",
        "##### Nome do script: calculadora_inteligente.py\n",
        "#####Autor: Ana Paula Antonio de Oliveira\n",
        "#####Data de criação: 21/02/2025\n",
        "#####Descrição: Esta calculadora foi desenvolvida para calcular o ponto de equilíbrio de uma empresa de cadernos artesanais e gerar um relatório básico.\n",
        "#####Versão: 1.0\n",
        "#####Requisitos: Python 3\n",
        "\n",
        "\"\"\""
      ],
      "metadata": {
        "id": "2cLvhJKrFFDY"
      }
    },
    {
      "cell_type": "markdown",
      "source": [
        "# Custos Fixos"
      ],
      "metadata": {
        "id": "faQqiysj-on8"
      }
    },
    {
      "cell_type": "code",
      "source": [
        "aluguel = float(input('digite o valor do Aluguel: '))\n",
        "print(f\" Aluguel = {aluguel} reais\")"
      ],
      "metadata": {
        "id": "CaFfF-baH5Vt",
        "colab": {
          "base_uri": "https://localhost:8080/"
        },
        "outputId": "013b8309-0d09-4633-9d71-f9dbd952c372"
      },
      "execution_count": 16,
      "outputs": [
        {
          "output_type": "stream",
          "name": "stdout",
          "text": [
            "digite o valor do Aluguel: 2000\n",
            " Aluguel = 2000.0 reais\n"
          ]
        }
      ]
    },
    {
      "cell_type": "code",
      "source": [
        "internet_tel = float(input('digite o valor da Internet e telefone: '))\n",
        "print(f\" Internet e telefone = {internet_tel} reais\")"
      ],
      "metadata": {
        "colab": {
          "base_uri": "https://localhost:8080/"
        },
        "id": "ZVnTGAdORDhs",
        "outputId": "8ff3258b-877b-49b7-eb20-6f536fb171d6"
      },
      "execution_count": 17,
      "outputs": [
        {
          "output_type": "stream",
          "name": "stdout",
          "text": [
            "digite o valor da Internet e telefone: 50\n",
            " Internet e telefone = 50.0 reais\n"
          ]
        }
      ]
    },
    {
      "cell_type": "code",
      "source": [
        "energia = float(input('digite o valor da energia: '))\n",
        "print(f\" Energia = {energia} reais\")"
      ],
      "metadata": {
        "id": "oIJ3I6m8RZvp",
        "colab": {
          "base_uri": "https://localhost:8080/"
        },
        "outputId": "4c6ddfb4-f78d-433e-9e08-318ae87e92ea"
      },
      "execution_count": 18,
      "outputs": [
        {
          "output_type": "stream",
          "name": "stdout",
          "text": [
            "digite o valor da energia: 100\n",
            " Energia = 100.0 reais\n"
          ]
        }
      ]
    },
    {
      "cell_type": "code",
      "source": [
        "agua = float(input('digite o valor da água: '))\n",
        "print(f\" Água = {agua} reais\")"
      ],
      "metadata": {
        "id": "08P9NGumReRv",
        "colab": {
          "base_uri": "https://localhost:8080/"
        },
        "outputId": "4be16fcd-dff4-45a8-eb0a-69769aee1a68"
      },
      "execution_count": 19,
      "outputs": [
        {
          "output_type": "stream",
          "name": "stdout",
          "text": [
            "digite o valor da água: 200\n",
            " Água = 200.0 reais\n"
          ]
        }
      ]
    },
    {
      "cell_type": "code",
      "source": [
        "software = float(input('digite o valor do software: '))\n",
        "print(f\" Software = {software} reais\")"
      ],
      "metadata": {
        "id": "eWU29EIcRjiP",
        "colab": {
          "base_uri": "https://localhost:8080/"
        },
        "outputId": "068ce1f7-1d64-4f04-895a-3dc1fb3d1c4f"
      },
      "execution_count": 20,
      "outputs": [
        {
          "output_type": "stream",
          "name": "stdout",
          "text": [
            "digite o valor do software: 100\n",
            " Software = 100.0 reais\n"
          ]
        }
      ]
    },
    {
      "cell_type": "code",
      "source": [
        "marketing = float(input('digite o valor do marketing: '))\n",
        "print(f\" Marketing = {marketing} reais\")"
      ],
      "metadata": {
        "id": "F8nCj-V8RqDz",
        "colab": {
          "base_uri": "https://localhost:8080/"
        },
        "outputId": "d4a52387-cf8c-43e3-cd9d-726abd813a0d"
      },
      "execution_count": 21,
      "outputs": [
        {
          "output_type": "stream",
          "name": "stdout",
          "text": [
            "digite o valor do marketing: 300\n",
            " Marketing = 300.0 reais\n"
          ]
        }
      ]
    },
    {
      "cell_type": "code",
      "source": [
        "ecommerce = float(input('digite o valor do ecommerce: '))\n",
        "print(f\" Ecommerce = {ecommerce} reais\")"
      ],
      "metadata": {
        "id": "Zx_vwknVRyru",
        "colab": {
          "base_uri": "https://localhost:8080/"
        },
        "outputId": "79b545e0-822c-4810-f08a-032e79e4a33f"
      },
      "execution_count": 22,
      "outputs": [
        {
          "output_type": "stream",
          "name": "stdout",
          "text": [
            "digite o valor do ecommerce: 150\n",
            " Ecommerce = 150.0 reais\n"
          ]
        }
      ]
    },
    {
      "cell_type": "code",
      "source": [
        "contador = float(input('digite o valor do contador: '))\n",
        "print(f\" Contador = {contador} reais\")"
      ],
      "metadata": {
        "id": "s-1sU_qIR5kk",
        "colab": {
          "base_uri": "https://localhost:8080/"
        },
        "outputId": "dfe0391b-26cb-49ea-95db-ac84870fc6d8"
      },
      "execution_count": 23,
      "outputs": [
        {
          "output_type": "stream",
          "name": "stdout",
          "text": [
            "digite o valor do contador: 300\n",
            " Contador = 300.0 reais\n"
          ]
        }
      ]
    },
    {
      "cell_type": "code",
      "source": [
        "registro_marca = float(input('digite o valor do registro de marca: '))\n",
        "print(f\" Registro de marca = {registro_marca} reais\")"
      ],
      "metadata": {
        "id": "FRqmJXLKTcGP",
        "colab": {
          "base_uri": "https://localhost:8080/"
        },
        "outputId": "8cc3a7d0-31e6-4a65-82d4-e0d6529e6dee"
      },
      "execution_count": 24,
      "outputs": [
        {
          "output_type": "stream",
          "name": "stdout",
          "text": [
            "digite o valor do registro de marca: 100\n",
            " Registro de marca = 100.0 reais\n"
          ]
        }
      ]
    },
    {
      "cell_type": "code",
      "source": [
        "embalagens = float(input('digite o valor das embalagens: '))\n",
        "print(f\" Embalagens = {embalagens} reais\")"
      ],
      "metadata": {
        "id": "APohb1tVTgUb",
        "colab": {
          "base_uri": "https://localhost:8080/"
        },
        "outputId": "caac8350-11ec-4bf2-e879-23186a140dd8"
      },
      "execution_count": 25,
      "outputs": [
        {
          "output_type": "stream",
          "name": "stdout",
          "text": [
            "digite o valor das embalagens: 500\n",
            " Embalagens = 500.0 reais\n"
          ]
        }
      ]
    },
    {
      "cell_type": "code",
      "source": [
        "capital_giro = float(input('digite o valor do capital de giro: '))\n",
        "print(f\" Capital de giro = {capital_giro} reais\")"
      ],
      "metadata": {
        "id": "fli1nsP-TmXh",
        "colab": {
          "base_uri": "https://localhost:8080/"
        },
        "outputId": "2aba2c83-dc2b-41d7-d81b-0ca9add08d4e"
      },
      "execution_count": 26,
      "outputs": [
        {
          "output_type": "stream",
          "name": "stdout",
          "text": [
            "digite o valor do capital de giro: 500\n",
            " Capital de giro = 500.0 reais\n"
          ]
        }
      ]
    },
    {
      "cell_type": "code",
      "source": [
        "total_fixos = aluguel + internet_tel + energia + agua + software + marketing + ecommerce + contador + registro_marca + embalagens + capital_giro\n",
        "print(f\" Total de custos fixos = {total_fixos} reais\")"
      ],
      "metadata": {
        "id": "FciJdoxc-ynr",
        "colab": {
          "base_uri": "https://localhost:8080/"
        },
        "outputId": "cd800950-1838-4d7b-b043-e72fd6625c31"
      },
      "execution_count": 27,
      "outputs": [
        {
          "output_type": "stream",
          "name": "stdout",
          "text": [
            " Total de custos fixos = 4300.0 reais\n"
          ]
        }
      ]
    },
    {
      "cell_type": "markdown",
      "source": [
        "# Custos Variáveis"
      ],
      "metadata": {
        "id": "OadLhLzU-jte"
      }
    },
    {
      "cell_type": "code",
      "source": [
        "papel_kraft = float(input('digite o valor do papel kraft: '))\n",
        "print(f\" Papel kraft = {papel_kraft} reais\")"
      ],
      "metadata": {
        "id": "SFblkRUV9Rwh",
        "colab": {
          "base_uri": "https://localhost:8080/"
        },
        "outputId": "5b470477-0495-4ca8-ea96-66a718937fce"
      },
      "execution_count": 5,
      "outputs": [
        {
          "output_type": "stream",
          "name": "stdout",
          "text": [
            "digite o valor do papel kraft: 5\n",
            " Papel kraft = 5.0 reais\n"
          ]
        }
      ]
    },
    {
      "cell_type": "code",
      "source": [
        "folhas_internas = float(input('digite o valor das folhas internas: '))\n",
        "print(f\" Folhas internas = {folhas_internas} reais\")"
      ],
      "metadata": {
        "id": "oJJZZgyTeVi_",
        "colab": {
          "base_uri": "https://localhost:8080/"
        },
        "outputId": "292d8a03-44c5-436f-d3a1-40dd6f1c127c"
      },
      "execution_count": 6,
      "outputs": [
        {
          "output_type": "stream",
          "name": "stdout",
          "text": [
            "digite o valor das folhas internas: 6\n",
            " Folhas internas = 6.0 reais\n"
          ]
        }
      ]
    },
    {
      "cell_type": "code",
      "source": [
        "tinta = float(input('digite o valor da tinta: '))\n",
        "print(f\" Tinta = {tinta} reais\")"
      ],
      "metadata": {
        "id": "iUOMV0gZevig",
        "colab": {
          "base_uri": "https://localhost:8080/"
        },
        "outputId": "3e16adda-f5e7-4402-9cab-b030f5536bd6"
      },
      "execution_count": 7,
      "outputs": [
        {
          "output_type": "stream",
          "name": "stdout",
          "text": [
            "digite o valor da tinta: 2\n",
            " Tinta = 2.0 reais\n"
          ]
        }
      ]
    },
    {
      "cell_type": "code",
      "source": [
        "linha_costura = float(input('digite o valor da linha de costura: '))\n",
        "print(f\" Linha de costura = {linha_costura} reais\")"
      ],
      "metadata": {
        "id": "O4fyZp2ojFuQ",
        "colab": {
          "base_uri": "https://localhost:8080/"
        },
        "outputId": "621648b7-f2ba-4186-8042-3a16ce24fb0c"
      },
      "execution_count": 8,
      "outputs": [
        {
          "output_type": "stream",
          "name": "stdout",
          "text": [
            "digite o valor da linha de costura: 1\n",
            " Linha de costura = 1.0 reais\n"
          ]
        }
      ]
    },
    {
      "cell_type": "code",
      "source": [
        "adesivos_tags = float(input('digite o valor dos acessórios e tags: '))\n",
        "print(f\" Acessórios e tags = {adesivos_tags} reais\")"
      ],
      "metadata": {
        "id": "_joD9jKujLhn",
        "colab": {
          "base_uri": "https://localhost:8080/"
        },
        "outputId": "75e0a2de-cc5a-491c-cf6a-699df2512265"
      },
      "execution_count": 9,
      "outputs": [
        {
          "output_type": "stream",
          "name": "stdout",
          "text": [
            "digite o valor dos acessórios e tags: 2\n",
            " Acessórios e tags = 2.0 reais\n"
          ]
        }
      ]
    },
    {
      "cell_type": "code",
      "source": [
        "plastico_embalagem = float(input('digite o valor do plástico e embalagem: '))\n",
        "print(f\" Plástico e embalagem = {plastico_embalagem} reais\")"
      ],
      "metadata": {
        "colab": {
          "base_uri": "https://localhost:8080/"
        },
        "id": "RfCECuTpFc3I",
        "outputId": "37e28128-3cf4-48b0-8772-2460946030ab"
      },
      "execution_count": 10,
      "outputs": [
        {
          "output_type": "stream",
          "name": "stdout",
          "text": [
            "digite o valor do plástico e embalagem: 2\n",
            " Plástico e embalagem = 2.0 reais\n"
          ]
        }
      ]
    },
    {
      "cell_type": "code",
      "source": [
        "frete = float(input('digite o valor do frete: '))\n",
        "print(f\" Frete = {frete} reais\")"
      ],
      "metadata": {
        "colab": {
          "base_uri": "https://localhost:8080/"
        },
        "id": "ABdRM8jvFjvq",
        "outputId": "f63a8b14-34cd-4867-ddba-86713c2f390c"
      },
      "execution_count": 11,
      "outputs": [
        {
          "output_type": "stream",
          "name": "stdout",
          "text": [
            "digite o valor do frete: 5\n",
            " Frete = 5.0 reais\n"
          ]
        }
      ]
    },
    {
      "cell_type": "code",
      "source": [
        "taxa_pagamento = float(input('digite o valor da taxa de pagamento: '))\n",
        "print(f\" Taxa de pagamento = {taxa_pagamento} reais\")"
      ],
      "metadata": {
        "colab": {
          "base_uri": "https://localhost:8080/"
        },
        "id": "Qpa7w7_GFnpt",
        "outputId": "40276246-ac3a-4a9d-d3c4-565951338eaf"
      },
      "execution_count": 12,
      "outputs": [
        {
          "output_type": "stream",
          "name": "stdout",
          "text": [
            "digite o valor da taxa de pagamento: 3\n",
            " Taxa de pagamento = 3.0 reais\n"
          ]
        }
      ]
    },
    {
      "cell_type": "code",
      "source": [
        "total_variaveis = papel_kraft + folhas_internas + tinta + linha_costura + adesivos_tags + plastico_embalagem + frete + taxa_pagamento\n",
        "print(f\" Total de custos variáveis = {total_variaveis} reais\")"
      ],
      "metadata": {
        "colab": {
          "base_uri": "https://localhost:8080/"
        },
        "id": "dCN9knvaFu4g",
        "outputId": "9994f530-c559-4eb2-f23b-218fc002c5f1"
      },
      "execution_count": 13,
      "outputs": [
        {
          "output_type": "stream",
          "name": "stdout",
          "text": [
            " Total de custos variáveis = 26.0 reais\n"
          ]
        }
      ]
    },
    {
      "cell_type": "markdown",
      "source": [
        "# Preço de Venda Unitário"
      ],
      "metadata": {
        "id": "hWVmJ4sw-tDI"
      }
    },
    {
      "cell_type": "code",
      "source": [
        "preço_unitario = float(input('digite o preço de venda unitário: '))\n",
        "print(f\" Preço de venda unitário = {preço_unitario} reais\")"
      ],
      "metadata": {
        "id": "k4LJ_drL9XI-",
        "colab": {
          "base_uri": "https://localhost:8080/"
        },
        "outputId": "208e6a7c-d91e-4ac8-f4ea-1484fd9e3ccd"
      },
      "execution_count": 2,
      "outputs": [
        {
          "output_type": "stream",
          "name": "stdout",
          "text": [
            "digite o preço de venda unitário: 50\n",
            " Preço de venda unitário = 50.0 reais\n"
          ]
        }
      ]
    },
    {
      "cell_type": "markdown",
      "source": [
        "# Quantidade Mínima de Vendas"
      ],
      "metadata": {
        "id": "gAWzOuA4Euhg"
      }
    },
    {
      "cell_type": "code",
      "source": [
        "PE = int(total_fixos / (preço_unitario - total_variaveis))\n",
        "print(f\"O ponto de equilíbrio é de {PE} unidades por mês para cobrir os custos e não ter prejuízo.\")\n",
        "if PE % 2 == 0:\n",
        "  print(\"O ponto de equilíbrio é par.\")\n",
        "else:\n",
        "  print(\"O ponto de equilíbrio é ímpar.\")"
      ],
      "metadata": {
        "id": "H77TG63AE05Y",
        "colab": {
          "base_uri": "https://localhost:8080/"
        },
        "outputId": "3f5be1be-527e-41ec-e129-f8ff960ceb91"
      },
      "execution_count": null,
      "outputs": [
        {
          "output_type": "stream",
          "name": "stdout",
          "text": [
            "O ponto de equilíbrio é de 179 unidades por mês para cobrir os custos e não ter prejuízo.\n",
            "O ponto de equilíbrio é ímpar.\n"
          ]
        }
      ]
    },
    {
      "cell_type": "markdown",
      "source": [
        "# Margem de Contribuição"
      ],
      "metadata": {
        "id": "Yb_a2aJji8NW"
      }
    },
    {
      "cell_type": "code",
      "source": [
        "margem_contribuiçao = ((preço_unitario - total_variaveis) / preço_unitario) * 100\n",
        "print(f\"A margem de contribuição é de {margem_contribuiçao}%.\")"
      ],
      "metadata": {
        "colab": {
          "base_uri": "https://localhost:8080/"
        },
        "id": "xzy8SiTDjDhY",
        "outputId": "ab7c822b-55cc-4cb3-f11c-10bb8ce6aa96"
      },
      "execution_count": 14,
      "outputs": [
        {
          "output_type": "stream",
          "name": "stdout",
          "text": [
            "A margem de contribuição é de 48.0%.\n"
          ]
        }
      ]
    },
    {
      "cell_type": "markdown",
      "source": [
        "# Lucro a partir das Vendas Reais"
      ],
      "metadata": {
        "id": "JZkYqtGdyfgE"
      }
    },
    {
      "cell_type": "code",
      "source": [
        "qtde_vendida = int(input(\"Digite a quantidade vendida neste mês: \"))\n",
        "lucro_real = (qtde_vendida * margem_contribuiçao) - total_fixos\n",
        "\n",
        "if lucro_real > 0:\n",
        "  print(f\"Parabéns! Seu lucro foi de R${lucro_real}.\")\n",
        "elif lucro_real < 0:\n",
        "  print(f\"Infelizmente, você teve um prejuízo de R$ {lucro_real}.\")\n",
        "else:\n",
        "  print(\"Você atingiu o ponto de equilíbrio, sem lucro nem prejuízo.\")"
      ],
      "metadata": {
        "colab": {
          "base_uri": "https://localhost:8080/"
        },
        "id": "Yd6xRwGXylCq",
        "outputId": "c84c0465-b224-4d9f-dfc7-34ba36ef0d7c"
      },
      "execution_count": 28,
      "outputs": [
        {
          "output_type": "stream",
          "name": "stdout",
          "text": [
            "Digite a quantidade vendida neste mês: 200\n",
            "Parabéns! Seu lucro foi de R$5300.0.\n"
          ]
        }
      ]
    },
    {
      "cell_type": "markdown",
      "source": [
        "# Sugestões para Diminuir o Ponto de Equilíbrio"
      ],
      "metadata": {
        "id": "T3z57DYcG8yP"
      }
    },
    {
      "cell_type": "code",
      "source": [
        "sugestoes = input(\"Escreva sim ou não para receber sugestões para diminuir o ponto de equilíbrio: \")\n",
        "if sugestoes == \"sim\":\n",
        "    print(\"Abaixo você poderá ver sugestões para diminuir o PE.\")\n",
        "elif sugestoes == \"não\":\n",
        "  print(\"Obrigado por usar o programa!\")\n",
        "else:\n",
        "    print(\"Opção inválida. Escolha entre 'sim' ou 'não'.\")"
      ],
      "metadata": {
        "id": "5k8JlI63I9x7",
        "colab": {
          "base_uri": "https://localhost:8080/"
        },
        "outputId": "2eac5857-bb60-45f1-e1ab-f9419c2cd290"
      },
      "execution_count": null,
      "outputs": [
        {
          "output_type": "stream",
          "name": "stdout",
          "text": [
            "Escreva sim ou não para receber sugestões para diminuir o ponto de equilíbrio: sim\n",
            "Abaixo você poderá ver sugestões para diminuir o PE.\n"
          ]
        }
      ]
    },
    {
      "cell_type": "code",
      "source": [
        "#Pelos custos fixos\n",
        "sugestao = [\"fixos\", \"variáveis\"]\n",
        "sugestao_fixos = [\"negociar aluguel ou optar por home office\", \"cortar despesas desnecessárias, como software pouco usado ou anúncios ineficientes\", \"compartilhar infraestrutura\", \"reduzir gastos com marketing pago e apostar no orgânico\"]\n",
        "sugestao_variaveis = [\"comprar matéria-prima em maior quantidade\", \"negociar com fornecedores\", \"aprimorar a eficiência da produção\", \"evitar intermediários e comprar direto do fabricante\"]\n",
        "\n",
        "#Escolha das sugestões por tipo\n",
        "escolha_dica = input(\"Entre fixos ou variáveis, digite sobre qual variável quer dicas: \")\n",
        "if escolha_dica == \"fixos\":\n",
        "  for dica in sugestao_fixos:\n",
        "    print(dica)\n",
        "elif escolha_dica == \"variáveis\":\n",
        "  for dica in sugestao_variaveis:\n",
        "    print(dica)\n",
        "else:\n",
        "  print(\"Opção inválida. Escolha entre 'fixos' ou 'variáveis'.\")\n"
      ],
      "metadata": {
        "colab": {
          "base_uri": "https://localhost:8080/"
        },
        "id": "Q7QL9REOA4uw",
        "outputId": "12d17d98-7e35-4e82-bd1d-0493e61abffd"
      },
      "execution_count": null,
      "outputs": [
        {
          "output_type": "stream",
          "name": "stdout",
          "text": [
            "Entre fixos ou variáveis, digite sobre qual variável quer dicas: fixos\n",
            "negociar aluguel ou optar por home office\n",
            "cortar despesas desnecessárias, como software pouco usado ou anúncios ineficientes\n",
            "compartilhar infraestrutura\n",
            "reduzir gastos com marketing pago e apostar no orgânico\n"
          ]
        }
      ]
    }
  ]
}